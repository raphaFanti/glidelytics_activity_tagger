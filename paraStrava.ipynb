{
 "cells": [
  {
   "cell_type": "markdown",
   "metadata": {},
   "source": [
    "# paraStrava - paragliding analysis on Strava data\n",
    "## Authorization "
   ]
  },
  {
   "cell_type": "code",
   "execution_count": 20,
   "metadata": {},
   "outputs": [
    {
     "name": "stdout",
     "output_type": "stream",
     "text": [
      "Client ID: 80263\n"
     ]
    }
   ],
   "source": [
    "import requests\n",
    "import urllib3\n",
    "urllib3.disable_warnings(urllib3.exceptions.InsecureRequestWarning)\n",
    "\n",
    "auth_url = \"https://www.strava.com/oauth/token\"\n",
    "activites_url = \"https://www.strava.com/api/v3/athlete/activities\"\n",
    "\n",
    "import configparser\n",
    "config = configparser.ConfigParser()\n",
    "config.read(\"config.ini\")\n",
    "print(\"Client ID: {}\".format(config[\"strava\"][\"client_id\"]))\n",
    "\n",
    "payload = {\n",
    "    'client_id': config[\"strava\"][\"client_id\"],\n",
    "    'client_secret': config[\"strava\"][\"client_secret\"],\n",
    "    'refresh_token': config[\"strava\"][\"refresh_token\"],\n",
    "    'grant_type': \"refresh_token\",\n",
    "    ''\n",
    "    'f': 'json'\n",
    "}\n"
   ]
  },
  {
   "cell_type": "code",
   "execution_count": 21,
   "metadata": {},
   "outputs": [
    {
     "name": "stdout",
     "output_type": "stream",
     "text": [
      "Requesting Token...\n",
      "\n",
      "Access Token = 04d75cddd98ed4e0408b3211c237055f46567f2d\n",
      "\n"
     ]
    }
   ],
   "source": [
    "print(\"Requesting Token...\\n\")\n",
    "res = requests.post(auth_url, data=payload, verify=False)\n",
    "access_token = res.json()['access_token']\n",
    "print(\"Access Token = {}\\n\".format(access_token))\n"
   ]
  },
  {
   "cell_type": "markdown",
   "metadata": {},
   "source": [
    "## Getting list of paragliding activities"
   ]
  },
  {
   "cell_type": "code",
   "execution_count": 35,
   "metadata": {},
   "outputs": [
    {
     "name": "stdout",
     "output_type": "stream",
     "text": [
      "i: 0\n",
      "retrieved 100 activities\n",
      "i: 1\n",
      "retrieved 100 activities\n",
      "i: 2\n",
      "retrieved 100 activities\n",
      "i: 3\n",
      "retrieved 59 activities\n",
      "Total of 359 activities retrieved\n"
     ]
    }
   ],
   "source": [
    "# estimate of number of activities\n",
    "act_total = 400\n",
    "# activities per page\n",
    "act_pp = 100\n",
    "# number of pages\n",
    "import math\n",
    "pgs = math.ceil(act_total / act_pp)\n",
    "\n",
    "# columns to keep from activities\n",
    "cols = [\"id\", \"name\", \"distance\", \"moving_time\", \"elapsed_time\", \"total_elevation_gain\", \"type\", \"start_date_local\", \"map.id\", \"average_speed\", \"max_speed\", \"elev_high\", \"elev_low\"]\n",
    "\n",
    "#request header\n",
    "header = {'Authorization': 'Bearer ' + access_token}\n",
    "\n",
    "import pandas as pd\n",
    "from pandas import json_normalize\n",
    "\n",
    "pg_contents = []\n",
    "for pg in range(pgs):\n",
    "    print(\"Page: {}\".format(pg + 1))\n",
    "    param = {'per_page': act_pp, 'page': pg + 1}\n",
    "    pg_dataset = requests.get(activites_url, headers=header, params=param).json()\n",
    "    \n",
    "    pg_activities = json_normalize(pg_dataset)\n",
    "    pg_activities = pg_activities[cols]\n",
    "    print(\"retrieved {} activities\".format(pg_activities.shape[0]))\n",
    "    #print(pg_activities.head())\n",
    "    pg_contents.append(pg_activities)\n",
    "    \n",
    "my_activities = pd.concat(pg_contents)\n",
    "print(\"Total of {} activities retrieved\".format(my_activities.shape[0]))"
   ]
  },
  {
   "cell_type": "code",
   "execution_count": null,
   "metadata": {},
   "outputs": [],
   "source": [
    "# now selecting activities "
   ]
  }
 ],
 "metadata": {
  "kernelspec": {
   "display_name": "Python 3",
   "language": "python",
   "name": "python3"
  },
  "language_info": {
   "codemirror_mode": {
    "name": "ipython",
    "version": 3
   },
   "file_extension": ".py",
   "mimetype": "text/x-python",
   "name": "python",
   "nbconvert_exporter": "python",
   "pygments_lexer": "ipython3",
   "version": "3.8.6"
  }
 },
 "nbformat": 4,
 "nbformat_minor": 4
}
