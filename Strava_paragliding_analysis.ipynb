{
 "cells": [
  {
   "cell_type": "markdown",
   "metadata": {},
   "source": [
    "# Glidelytics for Strava - paragliding analysis on personal Strava data\n",
    "## Authorization "
   ]
  },
  {
   "cell_type": "markdown",
   "metadata": {},
   "source": [
    "Get client_id from\n",
    "https://www.strava.com/settings/api"
   ]
  },
  {
   "cell_type": "markdown",
   "metadata": {},
   "source": [
    "Visit page \n",
    "http://www.strava.com/oauth/authorize?client_id=[REPLACE_WITH_YOUR_CLIENT_ID]&response_type=code&redirect_uri=http://localhost/exchange_token&approval_prompt=force&scope=read_all\n",
    "replacing placeholder with client_id"
   ]
  },
  {
   "cell_type": "markdown",
   "metadata": {},
   "source": [
    "Get field \"code\"after redirection"
   ]
  },
  {
   "cell_type": "markdown",
   "metadata": {},
   "source": [
    "Open file config.ini (or else create such file on root using example_config.ini). Update the file with the below fields and save:\n",
    "- client_id\n",
    "- client_secret\n",
    "- code (from authorization response)\n",
    "- expires_at (to check if needed to refresh)"
   ]
  },
  {
   "cell_type": "code",
   "execution_count": 50,
   "metadata": {},
   "outputs": [],
   "source": [
    "import datetime\n",
    "import requests\n",
    "import urllib3\n",
    "urllib3.disable_warnings(urllib3.exceptions.InsecureRequestWarning)\n",
    "import pandas as pd\n",
    "from pandas import json_normalize\n",
    "\n",
    "auth_url = \"https://www.strava.com/oauth/token\"\n",
    "activites_url = \"https://www.strava.com/api/v3/athlete/activities\""
   ]
  },
  {
   "cell_type": "code",
   "execution_count": 47,
   "metadata": {},
   "outputs": [
    {
     "name": "stdout",
     "output_type": "stream",
     "text": [
      "Client ID: 80263\n",
      "Token expires at: 2022-04-04 20:42:57\n"
     ]
    }
   ],
   "source": [
    "# Lets load the config info and token expiracy time\n",
    "import configparser\n",
    "config = configparser.ConfigParser()\n",
    "config.read(\"config.ini\")\n",
    "print(\"Client ID: {}\".format(config[\"strava\"][\"client_id\"]))\n",
    "\n",
    "expires_at_epoch = int(config[\"strava\"][\"expires_at\"])\n",
    "expires_at_date = datetime.datetime.fromtimestamp(expires_at_epoch)\n",
    "refresh_token = config[\"strava\"][\"refresh_token\"]\n",
    "access_token = config[\"strava\"][\"access_token\"]\n",
    "print(\"Token expires at: {}\".format(expires_date))"
   ]
  },
  {
   "cell_type": "code",
   "execution_count": 48,
   "metadata": {},
   "outputs": [
    {
     "name": "stdout",
     "output_type": "stream",
     "text": [
      "Refreshing token\n",
      "Token refreshed successtully and expires at: 2022-04-05 03:39:33\n"
     ]
    }
   ],
   "source": [
    "# If a token is outdated we need to refresh it (happens often at the start of a script)\n",
    "if datetime.datetime.now() >= expires_at_date:\n",
    "    print(\"Refreshing token\")\n",
    "    payload = {\n",
    "        'client_id': config[\"strava\"][\"client_id\"],\n",
    "        'client_secret': config[\"strava\"][\"client_secret\"],\n",
    "        'refresh_token': refresh_token,\n",
    "        'grant_type': \"refresh_token\",\n",
    "        'f': 'json'\n",
    "    }\n",
    "\n",
    "    try:\n",
    "        response = requests.post(auth_url, data=payload, verify=False).json()\n",
    "        access_token = response['access_token']\n",
    "        refresh_token = response['refresh_token']\n",
    "        expires_at_epoch = int(response['expires_at'])\n",
    "        expires_at_date = datetime.datetime.fromtimestamp(expires_at_epoch)\n",
    "        print(\"Token refreshed successtully and expires at: {}\".format(expires_at_date))\n",
    "    except:\n",
    "        print(\"Problem refreshing token\")"
   ]
  },
  {
   "cell_type": "code",
   "execution_count": 49,
   "metadata": {},
   "outputs": [
    {
     "name": "stdout",
     "output_type": "stream",
     "text": [
      "6c43aa56101f85934014b2b1a9fa9940ea4c72e7\n"
     ]
    }
   ],
   "source": [
    "print(access_token)\n",
    "\n",
    "#request header for actitivies list\n",
    "header = {'Authorization': 'Bearer ' + access_token}\n"
   ]
  },
  {
   "cell_type": "markdown",
   "metadata": {},
   "source": [
    "## Getting list of paragliding activities"
   ]
  },
  {
   "cell_type": "code",
   "execution_count": 56,
   "metadata": {},
   "outputs": [
    {
     "name": "stdout",
     "output_type": "stream",
     "text": [
      "Page: 1\n",
      "   resource_state                name  distance  moving_time  elapsed_time  \\\n",
      "0               2      Afternoon Hike       0.0           88            88   \n",
      "1               2        Morning Hike    4980.0         4261          7040   \n",
      "2               2  Afternoon Activity    6536.0         6050         15264   \n",
      "3               2           Lunch Run    9760.0         3420          3420   \n",
      "4               2           Lunch run    9766.6         3461          3482   \n",
      "\n",
      "   total_elevation_gain     type          id            start_date  \\\n",
      "0                   0.0     Hike  6906273468  2022-03-30T12:16:20Z   \n",
      "1                   0.0     Hike  6895088466  2022-03-27T07:13:53Z   \n",
      "2                 707.0  Workout  6886935853  2022-03-26T12:55:13Z   \n",
      "3                   0.0      Run  6878705037  2022-03-24T11:47:21Z   \n",
      "4                  32.3      Run  6869475041  2022-03-23T11:49:38Z   \n",
      "\n",
      "       start_date_local  ... has_kudoed  athlete.id athlete.resource_state  \\\n",
      "0  2022-03-30T14:16:20Z  ...      False    33565567                      1   \n",
      "1  2022-03-27T09:13:53Z  ...      False    33565567                      1   \n",
      "2  2022-03-26T13:55:13Z  ...      False    33565567                      1   \n",
      "3  2022-03-24T12:47:21Z  ...      False    33565567                      1   \n",
      "4  2022-03-23T12:49:38Z  ...      False    33565567                      1   \n",
      "\n",
      "        map.id                               map.summary_polyline  \\\n",
      "0  a6906273468                                               None   \n",
      "1  a6895088466  k|fyGk```AOEQDWQYB_@Hu@n@c@EEG_@?KBEEW@KEU?_@N...   \n",
      "2  a6886935853  uclyGi}~_ATJd@KF@JKN?JE@EZWHC\\Jb@BNLHADBFIRK\\?...   \n",
      "3  a6878705037                                               None   \n",
      "4  a6869475041  cfszGwi`dAE^BJ?JEd@AdACZIf@E|AEP[Ra@QwB{A{Aw@k...   \n",
      "\n",
      "   map.resource_state  workout_type  average_watts  kilojoules  device_watts  \n",
      "0                   2           NaN            NaN         NaN           NaN  \n",
      "1                   2           NaN            NaN         NaN           NaN  \n",
      "2                   2           NaN            NaN         NaN           NaN  \n",
      "3                   2           NaN            NaN         NaN           NaN  \n",
      "4                   2           0.0            NaN         NaN           NaN  \n",
      "\n",
      "[5 rows x 58 columns]\n",
      "retrieved 100 activities\n",
      "Page: 2\n",
      "   resource_state          name  distance  moving_time  elapsed_time  \\\n",
      "0               2     Lunch Run   10249.0         3439          3442   \n",
      "1               2     Lunch Run    5271.0         1662          1702   \n",
      "2               2    Lunch Ride    6053.0         1243          1695   \n",
      "3               2   Morning Run    9176.0         5874          6386   \n",
      "4               2  Morning Ride    5196.0          781          1888   \n",
      "\n",
      "   total_elevation_gain  type  workout_type          id            start_date  \\\n",
      "0                  33.0   Run           NaN  5278141482  2021-05-11T10:48:25Z   \n",
      "1                  16.0   Run           NaN  5245538785  2021-05-05T10:39:10Z   \n",
      "2                  95.2  Ride           NaN  5222677523  2021-05-01T10:29:30Z   \n",
      "3                 818.0   Run           0.0  5222677739  2021-05-01T08:43:03Z   \n",
      "4                  24.2  Ride           NaN  5222677459  2021-05-01T08:11:35Z   \n",
      "\n",
      "   ... from_accepted_tag pr_count  total_photo_count has_kudoed athlete.id  \\\n",
      "0  ...             False        1                  0      False   33565567   \n",
      "1  ...             False        0                  0      False   33565567   \n",
      "2  ...             False        0                  0      False   33565567   \n",
      "3  ...             False        1                  0      False   33565567   \n",
      "4  ...             False        0                  0      False   33565567   \n",
      "\n",
      "  athlete.resource_state       map.id  \\\n",
      "0                      1  a5278141482   \n",
      "1                      1  a5245538785   \n",
      "2                      1  a5222677523   \n",
      "3                      1  a5222677739   \n",
      "4                      1  a5222677459   \n",
      "\n",
      "                                map.summary_polyline  map.resource_state  \\\n",
      "0  ufszGsz`dAPgBFOHGHYB{@RY|@[DGBKAY@U`@kARYVm@b@...                   2   \n",
      "1  _yszGmj`dA\\XR\\b@Nv@r@ZLjChBt@^pA`Aj@\\r@h@DBHAL...                   2   \n",
      "2  cmvxGclqbAKg@BK`Aa@\\o@h@uBf@wCv@wD?SKUV[Lc@Hi@...                   2   \n",
      "3  smvxGyhqbA[dA?^f@bBr@xAPt@@ZKBs@SOHNLNd@NNVLl@...                   2   \n",
      "4  umsxGeqybAO`@k@XYXOh@MNm@T[N[XKPWf@k@xAq@vBIvA...                   2   \n",
      "\n",
      "   device_watts  \n",
      "0           NaN  \n",
      "1           NaN  \n",
      "2         False  \n",
      "3           NaN  \n",
      "4         False  \n",
      "\n",
      "[5 rows x 56 columns]\n",
      "retrieved 100 activities\n",
      "Page: 3\n",
      "   resource_state                name  distance  moving_time  elapsed_time  \\\n",
      "0               2      Lunch Activity      87.0           66            66   \n",
      "1               2      Afternoon Hike    1964.0         1619          1783   \n",
      "2               2  Afternoon Activity    5148.0         1447          1661   \n",
      "3               2      Afternoon Hike     190.0          342           791   \n",
      "4               2    Morning Activity    5335.0         7391          8902   \n",
      "\n",
      "   total_elevation_gain       type          id            start_date  \\\n",
      "0                   0.0   Snowshoe  4214871348  2020-10-18T09:48:30Z   \n",
      "1                   0.0       Hike  4207939217  2020-10-17T14:44:38Z   \n",
      "2                   0.0  AlpineSki  4207939205  2020-10-17T14:16:57Z   \n",
      "3                  53.0       Hike  4206161431  2020-10-17T11:15:55Z   \n",
      "4                 884.8  NordicSki  4206161699  2020-10-17T08:47:11Z   \n",
      "\n",
      "       start_date_local  ... pr_count  total_photo_count has_kudoed  \\\n",
      "0  2020-10-18T11:48:30Z  ...        0                  0      False   \n",
      "1  2020-10-17T16:44:38Z  ...        0                  0      False   \n",
      "2  2020-10-17T16:16:57Z  ...        0                  0      False   \n",
      "3  2020-10-17T13:15:55Z  ...        0                  0      False   \n",
      "4  2020-10-17T10:47:11Z  ...        0                  0      False   \n",
      "\n",
      "  athlete.id athlete.resource_state       map.id  \\\n",
      "0   33565567                      1  a4214871348   \n",
      "1   33565567                      1  a4207939217   \n",
      "2   33565567                      1  a4207939205   \n",
      "3   33565567                      1  a4206161431   \n",
      "4   33565567                      1  a4206161699   \n",
      "\n",
      "                                map.summary_polyline  map.resource_state  \\\n",
      "0                            azvzGwif`AYGMPKTONg@RSE                   2   \n",
      "1  g_n|Gihy`A`@BXGnAq@tAoAPC\\Ol@Ez@?t@@b@DZ@RBl@C...                   2   \n",
      "2  {um|G{~{`A@a@BSUU@o@BKCW@WIW@GE[@SEOAQE[?SCUBM...                   2   \n",
      "3        sum|Go}{`ATIBUTOBSFEJm@FmANe@Ly@Do@FONDCAAG                   2   \n",
      "4  g_m|G}oy`ASBKEu@Do@KYFQJc@Bm@Xm@LGFc@Fm@Py@HoA...                   2   \n",
      "\n",
      "   workout_type  device_watts  \n",
      "0           NaN           NaN  \n",
      "1           NaN           NaN  \n",
      "2           NaN           NaN  \n",
      "3           NaN           NaN  \n",
      "4           NaN           NaN  \n",
      "\n",
      "[5 rows x 56 columns]\n",
      "retrieved 100 activities\n",
      "Page: 4\n",
      "   resource_state                name  distance  moving_time  elapsed_time  \\\n",
      "0               2      Lunch Activity    5507.0         3359          4910   \n",
      "1               2  Afternoon Activity    4815.0         5118          7765   \n",
      "2               2  Afternoon Activity   21725.0         8410         11979   \n",
      "3               2  Afternoon Activity   10733.0         6505          7324   \n",
      "4               2      Lunch Activity   48412.0        12484         14857   \n",
      "\n",
      "   total_elevation_gain       type          id            start_date  \\\n",
      "0                 230.6  NordicSki  2974842653  2019-12-30T10:16:14Z   \n",
      "1                 447.0  NordicSki  2974842548  2019-12-28T14:17:53Z   \n",
      "2                2536.0  AlpineSki  2974842776  2019-12-26T12:17:19Z   \n",
      "3                1071.0  NordicSki  2974844082  2019-12-24T14:51:34Z   \n",
      "4                4904.0  AlpineSki  2974843902  2019-12-07T11:11:30Z   \n",
      "\n",
      "       start_date_local  ... total_photo_count  has_kudoed athlete.id  \\\n",
      "0  2019-12-30T11:16:14Z  ...                 0       False   33565567   \n",
      "1  2019-12-28T15:17:53Z  ...                 0       False   33565567   \n",
      "2  2019-12-26T13:17:19Z  ...                 0       False   33565567   \n",
      "3  2019-12-24T15:51:34Z  ...                 0       False   33565567   \n",
      "4  2019-12-07T12:11:30Z  ...                 0       False   33565567   \n",
      "\n",
      "  athlete.resource_state       map.id  \\\n",
      "0                      1  a2974842653   \n",
      "1                      1  a2974842548   \n",
      "2                      1  a2974842776   \n",
      "3                      1  a2974844082   \n",
      "4                      1  a2974843902   \n",
      "\n",
      "                                map.summary_polyline  map.resource_state  \\\n",
      "0  myjuG{g{k@g@n@aAxA_BtAe@j@[r@q@hCQb@_CtDy@x@BB...                   2   \n",
      "1  iijuG}`|k@JCZCf@QAICCLANSHEB@ODAEB?CC?KBO`@TD?...                   2   \n",
      "2  ox~wGkynbAj@a@bCj@f}@_BdABNVMf@}@KyBoBUBF\\b@dA...                   2   \n",
      "3  utvxGuxdbALPb@Fh@v@n@f@d@?n@t@b@D`@Vv@DdAp@d@D...                   2   \n",
      "4  _csxGesjbAvBb@Gn@iIrL{BvEaC~JaC~Dl@`FgAbI}CzKz...                   2   \n",
      "\n",
      "   average_cadence  workout_type  device_watts  \n",
      "0              NaN           NaN           NaN  \n",
      "1              NaN           NaN           NaN  \n",
      "2              NaN           NaN           NaN  \n",
      "3              NaN           NaN           NaN  \n",
      "4              NaN           NaN           NaN  \n",
      "\n",
      "[5 rows x 56 columns]\n",
      "retrieved 60 activities\n",
      "Total of 360 activities retrieved\n"
     ]
    }
   ],
   "source": [
    "# estimate of number of activities\n",
    "act_total = 400\n",
    "# activities per page\n",
    "act_pp = 100\n",
    "# number of pages\n",
    "import math\n",
    "pgs = math.ceil(act_total / act_pp)\n",
    "\n",
    "# columns to keep from activities\n",
    "cols = [\"id\", \"name\", \"distance\", \"moving_time\", \"elapsed_time\", \"total_elevation_gain\", \"type\", \"start_date_local\", \"map.id\", \"average_speed\", \"max_speed\", \"elev_high\", \"elev_low\"]\n",
    "\n",
    "pg_contents = []\n",
    "for pg in range(pgs):\n",
    "    if datetime.datetime.now() >= expires_at_date:\n",
    "        print(\"Token outdated\")\n",
    "        break\n",
    "    print(\"Page: {}\".format(pg + 1))\n",
    "    param = {'per_page': act_pp, 'page': pg + 1}\n",
    "    pg_dataset = requests.get(activites_url, headers=header, params=param).json()\n",
    "    #print(pg_dataset)\n",
    "    pg_activities = json_normalize(pg_dataset)\n",
    "    pg_activities = pg_activities[cols]\n",
    "    print(\"retrieved {} activities\".format(pg_activities.shape[0]))\n",
    "    print(pg_activities.head())\n",
    "    pg_contents.append(pg_activities)\n",
    "    \n",
    "my_activities = pd.concat(pg_contents)\n",
    "print(\"Total of {} activities retrieved\".format(my_activities.shape[0]))"
   ]
  },
  {
   "cell_type": "code",
   "execution_count": 57,
   "metadata": {},
   "outputs": [],
   "source": [
    "# Store data in file\n",
    "my_activities.to_csv(\"My_activities.csv\")"
   ]
  },
  {
   "cell_type": "code",
   "execution_count": 58,
   "metadata": {},
   "outputs": [
    {
     "name": "stdout",
     "output_type": "stream",
     "text": [
      "            id                name  distance  moving_time  elapsed_time  \\\n",
      "70  3467638436           Lunch Run    2946.0         3673          4164   \n",
      "71  3460617106           Lunch Run    9835.0         8892         12590   \n",
      "72  3449780278       Afternoon Run    5115.0         2985          3197   \n",
      "73  3418638352          Lunch Ride   19698.0         3752          4601   \n",
      "74  3418772803        Morning Ride   13592.0         2055          2202   \n",
      "..         ...                 ...       ...          ...           ...   \n",
      "55  1867329459        Evening Ride    5101.0         1278          1774   \n",
      "56  1866893147  Afternoon Activity     238.0          718           718   \n",
      "57  1789020090      Giro mattutino    5470.3         1098          1098   \n",
      "58  1764912272   464 atras de casa   18142.3        12577         19451   \n",
      "59  1758839279   ride_201808081915    8659.0         1606          1653   \n",
      "\n",
      "    total_elevation_gain     type      start_date_local       map.id  \\\n",
      "70                 468.0      Run  2020-05-17T11:50:10Z  a3467638436   \n",
      "71                 712.0      Run  2020-05-16T12:11:18Z  a3460617106   \n",
      "72                 404.0      Run  2020-05-14T13:36:27Z  a3449780278   \n",
      "73                 114.0     Ride  2020-05-08T12:33:25Z  a3418638352   \n",
      "74                   9.0     Ride  2020-05-08T09:30:37Z  a3418772803   \n",
      "..                   ...      ...                   ...          ...   \n",
      "55                  14.6     Ride  2018-09-26T19:00:34Z  a1867329459   \n",
      "56                   0.0  Workout  2018-09-26T15:52:24Z  a1866893147   \n",
      "57                  23.4     Ride  2018-08-22T07:15:50Z  a1789020090   \n",
      "58                 964.8      Run  2018-08-11T11:19:31Z  a1764912272   \n",
      "59                  87.5     Ride  2018-08-08T19:15:44Z  a1758839279   \n",
      "\n",
      "    average_speed  max_speed  elev_high  elev_low  \n",
      "70          0.802        2.7      749.0     234.0  \n",
      "71          1.106        3.8      814.0     213.0  \n",
      "72          1.714        3.9      502.0     278.0  \n",
      "73          5.250        8.8      261.0     190.0  \n",
      "74          6.614       14.6      264.0     185.0  \n",
      "..            ...        ...        ...       ...  \n",
      "55          3.991        6.2      245.6     228.8  \n",
      "56          0.331        1.8       57.2      55.4  \n",
      "57          4.982        7.9      238.0     226.1  \n",
      "58          1.442        3.9     1009.1     250.6  \n",
      "59          5.392        8.7      263.7     185.0  \n",
      "\n",
      "[90 rows x 13 columns]\n"
     ]
    }
   ],
   "source": [
    "# get description for last 800 activities (where my paragling ones are)\n",
    "my_parag_activities = my_activities.tail(90)\n",
    "for index, row in my_parag_activities.iterrows():\n",
    "    "
   ]
  },
  {
   "cell_type": "code",
   "execution_count": null,
   "metadata": {},
   "outputs": [],
   "source": []
  }
 ],
 "metadata": {
  "kernelspec": {
   "display_name": "Python 3",
   "language": "python",
   "name": "python3"
  },
  "language_info": {
   "codemirror_mode": {
    "name": "ipython",
    "version": 3
   },
   "file_extension": ".py",
   "mimetype": "text/x-python",
   "name": "python",
   "nbconvert_exporter": "python",
   "pygments_lexer": "ipython3",
   "version": "3.8.6"
  }
 },
 "nbformat": 4,
 "nbformat_minor": 4
}
